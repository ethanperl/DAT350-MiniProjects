{
 "cells": [
  {
   "cell_type": "markdown",
   "metadata": {},
   "source": [
    "### Links\n",
    "\n",
    "- GitHub: \n"
   ]
  },
  {
   "cell_type": "code",
   "execution_count": 2,
   "metadata": {},
   "outputs": [],
   "source": [
    "##Imports\n",
    "import pandas as pd\n",
    "import seaborn as sns\n",
    "import matplotlib.pyplot as plt\n",
    "import numpy as np"
   ]
  },
  {
   "cell_type": "markdown",
   "metadata": {},
   "source": [
    "# Data Prep"
   ]
  },
  {
   "cell_type": "code",
   "execution_count": 3,
   "metadata": {},
   "outputs": [
    {
     "data": {
      "text/html": [
       "<div>\n",
       "<style scoped>\n",
       "    .dataframe tbody tr th:only-of-type {\n",
       "        vertical-align: middle;\n",
       "    }\n",
       "\n",
       "    .dataframe tbody tr th {\n",
       "        vertical-align: top;\n",
       "    }\n",
       "\n",
       "    .dataframe thead th {\n",
       "        text-align: right;\n",
       "    }\n",
       "</style>\n",
       "<table border=\"1\" class=\"dataframe\">\n",
       "  <thead>\n",
       "    <tr style=\"text-align: right;\">\n",
       "      <th></th>\n",
       "      <th>pH</th>\n",
       "      <th>Temprature</th>\n",
       "      <th>Taste</th>\n",
       "      <th>Odor</th>\n",
       "      <th>Fat</th>\n",
       "      <th>Turbidity</th>\n",
       "      <th>Colour</th>\n",
       "      <th>Grade</th>\n",
       "    </tr>\n",
       "  </thead>\n",
       "  <tbody>\n",
       "    <tr>\n",
       "      <th>0</th>\n",
       "      <td>6.6</td>\n",
       "      <td>35</td>\n",
       "      <td>1</td>\n",
       "      <td>0</td>\n",
       "      <td>1</td>\n",
       "      <td>0</td>\n",
       "      <td>254</td>\n",
       "      <td>high</td>\n",
       "    </tr>\n",
       "    <tr>\n",
       "      <th>1</th>\n",
       "      <td>6.6</td>\n",
       "      <td>36</td>\n",
       "      <td>0</td>\n",
       "      <td>1</td>\n",
       "      <td>0</td>\n",
       "      <td>1</td>\n",
       "      <td>253</td>\n",
       "      <td>high</td>\n",
       "    </tr>\n",
       "    <tr>\n",
       "      <th>2</th>\n",
       "      <td>8.5</td>\n",
       "      <td>70</td>\n",
       "      <td>1</td>\n",
       "      <td>1</td>\n",
       "      <td>1</td>\n",
       "      <td>1</td>\n",
       "      <td>246</td>\n",
       "      <td>low</td>\n",
       "    </tr>\n",
       "    <tr>\n",
       "      <th>3</th>\n",
       "      <td>9.5</td>\n",
       "      <td>34</td>\n",
       "      <td>1</td>\n",
       "      <td>1</td>\n",
       "      <td>0</td>\n",
       "      <td>1</td>\n",
       "      <td>255</td>\n",
       "      <td>low</td>\n",
       "    </tr>\n",
       "    <tr>\n",
       "      <th>4</th>\n",
       "      <td>6.6</td>\n",
       "      <td>37</td>\n",
       "      <td>0</td>\n",
       "      <td>0</td>\n",
       "      <td>0</td>\n",
       "      <td>0</td>\n",
       "      <td>255</td>\n",
       "      <td>medium</td>\n",
       "    </tr>\n",
       "  </tbody>\n",
       "</table>\n",
       "</div>"
      ],
      "text/plain": [
       "    pH  Temprature  Taste  Odor  Fat   Turbidity  Colour   Grade\n",
       "0  6.6          35      1     0     1          0     254    high\n",
       "1  6.6          36      0     1     0          1     253    high\n",
       "2  8.5          70      1     1     1          1     246     low\n",
       "3  9.5          34      1     1     0          1     255     low\n",
       "4  6.6          37      0     0     0          0     255  medium"
      ]
     },
     "execution_count": 3,
     "metadata": {},
     "output_type": "execute_result"
    }
   ],
   "source": [
    "rawDF = pd.read_csv(\"milknew.csv\")\n",
    "rawDF.head()"
   ]
  },
  {
   "cell_type": "markdown",
   "metadata": {},
   "source": [
    "### Missingness"
   ]
  },
  {
   "cell_type": "code",
   "execution_count": 4,
   "metadata": {},
   "outputs": [
    {
     "name": "stdout",
     "output_type": "stream",
     "text": [
      "<class 'pandas.core.frame.DataFrame'>\n",
      "RangeIndex: 1059 entries, 0 to 1058\n",
      "Data columns (total 8 columns):\n",
      " #   Column      Non-Null Count  Dtype  \n",
      "---  ------      --------------  -----  \n",
      " 0   pH          1059 non-null   float64\n",
      " 1   Temprature  1059 non-null   int64  \n",
      " 2   Taste       1059 non-null   int64  \n",
      " 3   Odor        1059 non-null   int64  \n",
      " 4   Fat         1059 non-null   int64  \n",
      " 5   Turbidity   1059 non-null   int64  \n",
      " 6   Colour      1059 non-null   int64  \n",
      " 7   Grade       1059 non-null   object \n",
      "dtypes: float64(1), int64(6), object(1)\n",
      "memory usage: 66.3+ KB\n"
     ]
    }
   ],
   "source": [
    "##Check for missing values\n",
    "rawDF.info()"
   ]
  },
  {
   "cell_type": "code",
   "execution_count": 4,
   "metadata": {},
   "outputs": [
    {
     "data": {
      "text/plain": [
       "(1059, 8)"
      ]
     },
     "execution_count": 4,
     "metadata": {},
     "output_type": "execute_result"
    }
   ],
   "source": [
    "rawDF.shape"
   ]
  },
  {
   "cell_type": "code",
   "execution_count": 5,
   "metadata": {},
   "outputs": [
    {
     "data": {
      "text/plain": [
       "Grade\n",
       "low       429\n",
       "medium    374\n",
       "high      256\n",
       "Name: count, dtype: int64"
      ]
     },
     "execution_count": 5,
     "metadata": {},
     "output_type": "execute_result"
    }
   ],
   "source": [
    "rawDF['Grade'].value_counts()"
   ]
  },
  {
   "cell_type": "code",
   "execution_count": 6,
   "metadata": {},
   "outputs": [],
   "source": [
    "rawDF = rawDF.rename(columns={'Colour': 'Color', 'Temprature' : 'Temperature', 'Fat ' : 'Fat'})\n",
    "var = [\"pH\", \"Temperature\", \"Taste\", \"Odor\", \"Fat\", \"Turbidity\", \"Color\"]\n",
    "num = ['pH', 'Temperature', 'Color']"
   ]
  },
  {
   "cell_type": "markdown",
   "metadata": {},
   "source": [
    "## Data Visualization"
   ]
  },
  {
   "cell_type": "code",
   "execution_count": 7,
   "metadata": {},
   "outputs": [
    {
     "data": {
      "image/png": "[encoded data removed]",
      "text/plain": [
       "<Figure size 1000x500 with 9 Axes>"
      ]
     },
     "metadata": {},
     "output_type": "display_data"
    }
   ],
   "source": [
    "## distributions of variables\n",
    "fig, axs = plt.subplots(3, 3, figsize=(10, 5))\n",
    "axs = axs.flatten()\n",
    "\n",
    "for i, col in enumerate(var):\n",
    "    axs[i].hist(rawDF[col], bins=10, color='skyblue', edgecolor='black')\n",
    "    axs[i].set_xlabel(col)\n",
    "    axs[i].set_ylabel('Frequency')\n",
    "    axs[i].set_title('Distribution of ' + col)\n",
    "\n",
    "plt.tight_layout()"
   ]
  },
  {
   "cell_type": "markdown",
   "metadata": {},
   "source": [
    "## Outliers"
   ]
  },
  {
   "cell_type": "code",
   "execution_count": 8,
   "metadata": {},
   "outputs": [
    {
     "data": {
      "image/png": "[encoded data removed]",
      "text/plain": [
       "<Figure size 1500x500 with 3 Axes>"
      ]
     },
     "metadata": {},
     "output_type": "display_data"
    }
   ],
   "source": [
    "##box plots of variables\n",
    "fig, axs = plt.subplots(1, len(num), figsize=(15, 5))\n",
    "\n",
    "for i, col in enumerate(num):\n",
    "    sns.boxplot(data=rawDF[col], ax=axs[i], color='skyblue')\n",
    "    axs[i].set_xlabel(col)\n",
    "    axs[i].set_ylabel('Value')\n",
    "    axs[i].set_title('Boxplot of ' + col)\n",
    "\n",
    "plt.tight_layout()"
   ]
  },
  {
   "cell_type": "code",
   "execution_count": 9,
   "metadata": {},
   "outputs": [],
   "source": [
    "def rmOutlier(DF, col_name):\n",
    "    \n",
    "    Q1 = np.percentile(DF[col_name], 25, method='midpoint')\n",
    "    Q3 = np.percentile(DF[col_name], 75, method='midpoint')\n",
    "    IQR = Q3 - Q1\n",
    "\n",
    "    print(IQR)\n",
    "\n",
    "    maxThreshold = Q3+1.5*IQR\n",
    "    minThreshold = Q1-1.5*IQR\n",
    "\n",
    "    outlierDF = DF[DF[col_name] < maxThreshold]\n",
    "    outlierDF = outlierDF[outlierDF[col_name] > minThreshold]\n",
    "\n",
    "    return outlierDF"
   ]
  },
  {
   "cell_type": "code",
   "execution_count": 10,
   "metadata": {},
   "outputs": [
    {
     "data": {
      "text/plain": [
       "(1059, 8)"
      ]
     },
     "execution_count": 10,
     "metadata": {},
     "output_type": "execute_result"
    }
   ],
   "source": [
    "rawDF.shape"
   ]
  },
  {
   "cell_type": "code",
   "execution_count": 11,
   "metadata": {},
   "outputs": [
    {
     "name": "stdout",
     "output_type": "stream",
     "text": [
      "7.0\n"
     ]
    },
    {
     "data": {
      "text/plain": [
       "(956, 8)"
      ]
     },
     "execution_count": 11,
     "metadata": {},
     "output_type": "execute_result"
    }
   ],
   "source": [
    "TempDF = rmOutlier(rawDF, 'Temperature')\n",
    "TempDF.shape"
   ]
  },
  {
   "cell_type": "code",
   "execution_count": 12,
   "metadata": {},
   "outputs": [
    {
     "name": "stdout",
     "output_type": "stream",
     "text": [
      "0.2999999999999998\n"
     ]
    },
    {
     "data": {
      "text/plain": [
       "(680, 8)"
      ]
     },
     "execution_count": 12,
     "metadata": {},
     "output_type": "execute_result"
    }
   ],
   "source": [
    "pHDF = rmOutlier(TempDF, 'pH')\n",
    "pHDF.shape"
   ]
  },
  {
   "cell_type": "code",
   "execution_count": 13,
   "metadata": {},
   "outputs": [
    {
     "name": "stdout",
     "output_type": "stream",
     "text": [
      "8.0\n"
     ]
    },
    {
     "data": {
      "text/plain": [
       "(680, 8)"
      ]
     },
     "execution_count": 13,
     "metadata": {},
     "output_type": "execute_result"
    }
   ],
   "source": [
    "OutDF = rmOutlier(pHDF, 'Color')\n",
    "OutDF.shape"
   ]
  },
  {
   "cell_type": "code",
   "execution_count": 14,
   "metadata": {},
   "outputs": [
    {
     "data": {
      "text/plain": [
       "(1059, 8)"
      ]
     },
     "execution_count": 14,
     "metadata": {},
     "output_type": "execute_result"
    }
   ],
   "source": [
    "rawDF.shape"
   ]
  },
  {
   "cell_type": "markdown",
   "metadata": {},
   "source": [
    "## Encode Milk Grade"
   ]
  },
  {
   "cell_type": "code",
   "execution_count": 15,
   "metadata": {},
   "outputs": [
    {
     "data": {
      "text/html": [
       "<div>\n",
       "<style scoped>\n",
       "    .dataframe tbody tr th:only-of-type {\n",
       "        vertical-align: middle;\n",
       "    }\n",
       "\n",
       "    .dataframe tbody tr th {\n",
       "        vertical-align: top;\n",
       "    }\n",
       "\n",
       "    .dataframe thead th {\n",
       "        text-align: right;\n",
       "    }\n",
       "</style>\n",
       "<table border=\"1\" class=\"dataframe\">\n",
       "  <thead>\n",
       "    <tr style=\"text-align: right;\">\n",
       "      <th></th>\n",
       "      <th>pH</th>\n",
       "      <th>Temperature</th>\n",
       "      <th>Taste</th>\n",
       "      <th>Odor</th>\n",
       "      <th>Fat</th>\n",
       "      <th>Turbidity</th>\n",
       "      <th>Color</th>\n",
       "      <th>Grade</th>\n",
       "    </tr>\n",
       "  </thead>\n",
       "  <tbody>\n",
       "    <tr>\n",
       "      <th>0</th>\n",
       "      <td>6.6</td>\n",
       "      <td>35</td>\n",
       "      <td>1</td>\n",
       "      <td>0</td>\n",
       "      <td>1</td>\n",
       "      <td>0</td>\n",
       "      <td>254</td>\n",
       "      <td>0</td>\n",
       "    </tr>\n",
       "    <tr>\n",
       "      <th>1</th>\n",
       "      <td>6.6</td>\n",
       "      <td>36</td>\n",
       "      <td>0</td>\n",
       "      <td>1</td>\n",
       "      <td>0</td>\n",
       "      <td>1</td>\n",
       "      <td>253</td>\n",
       "      <td>0</td>\n",
       "    </tr>\n",
       "    <tr>\n",
       "      <th>2</th>\n",
       "      <td>8.5</td>\n",
       "      <td>70</td>\n",
       "      <td>1</td>\n",
       "      <td>1</td>\n",
       "      <td>1</td>\n",
       "      <td>1</td>\n",
       "      <td>246</td>\n",
       "      <td>1</td>\n",
       "    </tr>\n",
       "    <tr>\n",
       "      <th>3</th>\n",
       "      <td>9.5</td>\n",
       "      <td>34</td>\n",
       "      <td>1</td>\n",
       "      <td>1</td>\n",
       "      <td>0</td>\n",
       "      <td>1</td>\n",
       "      <td>255</td>\n",
       "      <td>1</td>\n",
       "    </tr>\n",
       "    <tr>\n",
       "      <th>4</th>\n",
       "      <td>6.6</td>\n",
       "      <td>37</td>\n",
       "      <td>0</td>\n",
       "      <td>0</td>\n",
       "      <td>0</td>\n",
       "      <td>0</td>\n",
       "      <td>255</td>\n",
       "      <td>2</td>\n",
       "    </tr>\n",
       "  </tbody>\n",
       "</table>\n",
       "</div>"
      ],
      "text/plain": [
       "    pH  Temperature  Taste  Odor  Fat  Turbidity  Color  Grade\n",
       "0  6.6           35      1     0    1          0    254      0\n",
       "1  6.6           36      0     1    0          1    253      0\n",
       "2  8.5           70      1     1    1          1    246      1\n",
       "3  9.5           34      1     1    0          1    255      1\n",
       "4  6.6           37      0     0    0          0    255      2"
      ]
     },
     "execution_count": 15,
     "metadata": {},
     "output_type": "execute_result"
    }
   ],
   "source": [
    "from sklearn.preprocessing import LabelEncoder\n",
    "\n",
    "OneHot = ['work_type', 'Residence_type', 'smoking_status']\n",
    "Label = ['gender', 'ever_married']\n",
    "\n",
    "labEnc = LabelEncoder()\n",
    "\n",
    "rawDF['Grade'] = labEnc.fit_transform(rawDF['Grade'])\n",
    "\n",
    "rawDF.head()"
   ]
  },
  {
   "cell_type": "code",
   "execution_count": 16,
   "metadata": {},
   "outputs": [
    {
     "data": {
      "image/png": "[encoded data removed]",
      "text/plain": [
       "<Figure size 1600x800 with 2 Axes>"
      ]
     },
     "metadata": {},
     "output_type": "display_data"
    }
   ],
   "source": [
    "plt.figure(figsize=(16, 8))\n",
    "# define the mask to set the values in the upper triangle to True\n",
    "mask = np.triu(np.ones_like(rawDF.corr(), dtype=bool))\n",
    "heatmap = sns.heatmap(rawDF.corr(), mask=mask, vmin=-1, vmax=1, annot=True, cmap='seismic')\n",
    "heatmap.set_title('Triangle Correlation Heatmap', fontdict={'fontsize':18}, pad=16)\n",
    "plt.savefig('heatmap.png', dpi=300, bbox_inches='tight')"
   ]
  },
  {
   "cell_type": "markdown",
   "metadata": {},
   "source": [
    "## Split Data"
   ]
  },
  {
   "cell_type": "code",
   "execution_count": 17,
   "metadata": {},
   "outputs": [
    {
     "name": "stdout",
     "output_type": "stream",
     "text": [
      "Index(['pH', 'Temperature', 'Taste', 'Odor', 'Fat', 'Turbidity', 'Color'], dtype='object')\n"
     ]
    },
    {
     "data": {
      "text/html": [
       "<div>\n",
       "<style scoped>\n",
       "    .dataframe tbody tr th:only-of-type {\n",
       "        vertical-align: middle;\n",
       "    }\n",
       "\n",
       "    .dataframe tbody tr th {\n",
       "        vertical-align: top;\n",
       "    }\n",
       "\n",
       "    .dataframe thead th {\n",
       "        text-align: right;\n",
       "    }\n",
       "</style>\n",
       "<table border=\"1\" class=\"dataframe\">\n",
       "  <thead>\n",
       "    <tr style=\"text-align: right;\">\n",
       "      <th></th>\n",
       "      <th>pH</th>\n",
       "      <th>Temperature</th>\n",
       "      <th>Taste</th>\n",
       "      <th>Odor</th>\n",
       "      <th>Fat</th>\n",
       "      <th>Turbidity</th>\n",
       "      <th>Color</th>\n",
       "    </tr>\n",
       "  </thead>\n",
       "  <tbody>\n",
       "    <tr>\n",
       "      <th>0</th>\n",
       "      <td>6.6</td>\n",
       "      <td>35</td>\n",
       "      <td>1</td>\n",
       "      <td>0</td>\n",
       "      <td>1</td>\n",
       "      <td>0</td>\n",
       "      <td>254</td>\n",
       "    </tr>\n",
       "    <tr>\n",
       "      <th>1</th>\n",
       "      <td>6.6</td>\n",
       "      <td>36</td>\n",
       "      <td>0</td>\n",
       "      <td>1</td>\n",
       "      <td>0</td>\n",
       "      <td>1</td>\n",
       "      <td>253</td>\n",
       "    </tr>\n",
       "    <tr>\n",
       "      <th>2</th>\n",
       "      <td>8.5</td>\n",
       "      <td>70</td>\n",
       "      <td>1</td>\n",
       "      <td>1</td>\n",
       "      <td>1</td>\n",
       "      <td>1</td>\n",
       "      <td>246</td>\n",
       "    </tr>\n",
       "    <tr>\n",
       "      <th>3</th>\n",
       "      <td>9.5</td>\n",
       "      <td>34</td>\n",
       "      <td>1</td>\n",
       "      <td>1</td>\n",
       "      <td>0</td>\n",
       "      <td>1</td>\n",
       "      <td>255</td>\n",
       "    </tr>\n",
       "    <tr>\n",
       "      <th>4</th>\n",
       "      <td>6.6</td>\n",
       "      <td>37</td>\n",
       "      <td>0</td>\n",
       "      <td>0</td>\n",
       "      <td>0</td>\n",
       "      <td>0</td>\n",
       "      <td>255</td>\n",
       "    </tr>\n",
       "  </tbody>\n",
       "</table>\n",
       "</div>"
      ],
      "text/plain": [
       "    pH  Temperature  Taste  Odor  Fat  Turbidity  Color\n",
       "0  6.6           35      1     0    1          0    254\n",
       "1  6.6           36      0     1    0          1    253\n",
       "2  8.5           70      1     1    1          1    246\n",
       "3  9.5           34      1     1    0          1    255\n",
       "4  6.6           37      0     0    0          0    255"
      ]
     },
     "execution_count": 17,
     "metadata": {},
     "output_type": "execute_result"
    }
   ],
   "source": [
    "yDF = rawDF[\"Grade\"]\n",
    "xDF = rawDF.drop(columns=[\"Grade\"], axis=1)\n",
    "\n",
    "print(xDF.columns)\n",
    "xDF.head()"
   ]
  },
  {
   "cell_type": "code",
   "execution_count": 18,
   "metadata": {},
   "outputs": [
    {
     "data": {
      "text/html": [
       "<div>\n",
       "<style scoped>\n",
       "    .dataframe tbody tr th:only-of-type {\n",
       "        vertical-align: middle;\n",
       "    }\n",
       "\n",
       "    .dataframe tbody tr th {\n",
       "        vertical-align: top;\n",
       "    }\n",
       "\n",
       "    .dataframe thead th {\n",
       "        text-align: right;\n",
       "    }\n",
       "</style>\n",
       "<table border=\"1\" class=\"dataframe\">\n",
       "  <thead>\n",
       "    <tr style=\"text-align: right;\">\n",
       "      <th></th>\n",
       "      <th>Grade</th>\n",
       "    </tr>\n",
       "  </thead>\n",
       "  <tbody>\n",
       "    <tr>\n",
       "      <th>0</th>\n",
       "      <td>0</td>\n",
       "    </tr>\n",
       "    <tr>\n",
       "      <th>1</th>\n",
       "      <td>0</td>\n",
       "    </tr>\n",
       "    <tr>\n",
       "      <th>2</th>\n",
       "      <td>1</td>\n",
       "    </tr>\n",
       "    <tr>\n",
       "      <th>3</th>\n",
       "      <td>1</td>\n",
       "    </tr>\n",
       "    <tr>\n",
       "      <th>4</th>\n",
       "      <td>2</td>\n",
       "    </tr>\n",
       "  </tbody>\n",
       "</table>\n",
       "</div>"
      ],
      "text/plain": [
       "   Grade\n",
       "0      0\n",
       "1      0\n",
       "2      1\n",
       "3      1\n",
       "4      2"
      ]
     },
     "execution_count": 18,
     "metadata": {},
     "output_type": "execute_result"
    }
   ],
   "source": [
    "pd.DataFrame(yDF).head()"
   ]
  },
  {
   "cell_type": "markdown",
   "metadata": {},
   "source": [
    "## Training and Testing"
   ]
  },
  {
   "cell_type": "code",
   "execution_count": 19,
   "metadata": {},
   "outputs": [
    {
     "data": {
      "text/html": [
       "<div>\n",
       "<style scoped>\n",
       "    .dataframe tbody tr th:only-of-type {\n",
       "        vertical-align: middle;\n",
       "    }\n",
       "\n",
       "    .dataframe tbody tr th {\n",
       "        vertical-align: top;\n",
       "    }\n",
       "\n",
       "    .dataframe thead th {\n",
       "        text-align: right;\n",
       "    }\n",
       "</style>\n",
       "<table border=\"1\" class=\"dataframe\">\n",
       "  <thead>\n",
       "    <tr style=\"text-align: right;\">\n",
       "      <th></th>\n",
       "      <th>pH</th>\n",
       "      <th>Temperature</th>\n",
       "      <th>Taste</th>\n",
       "      <th>Odor</th>\n",
       "      <th>Fat</th>\n",
       "      <th>Turbidity</th>\n",
       "      <th>Color</th>\n",
       "    </tr>\n",
       "  </thead>\n",
       "  <tbody>\n",
       "    <tr>\n",
       "      <th>5</th>\n",
       "      <td>6.6</td>\n",
       "      <td>37</td>\n",
       "      <td>1</td>\n",
       "      <td>1</td>\n",
       "      <td>1</td>\n",
       "      <td>1</td>\n",
       "      <td>255</td>\n",
       "    </tr>\n",
       "    <tr>\n",
       "      <th>310</th>\n",
       "      <td>6.6</td>\n",
       "      <td>37</td>\n",
       "      <td>1</td>\n",
       "      <td>1</td>\n",
       "      <td>1</td>\n",
       "      <td>1</td>\n",
       "      <td>255</td>\n",
       "    </tr>\n",
       "    <tr>\n",
       "      <th>557</th>\n",
       "      <td>4.7</td>\n",
       "      <td>38</td>\n",
       "      <td>1</td>\n",
       "      <td>0</td>\n",
       "      <td>1</td>\n",
       "      <td>0</td>\n",
       "      <td>255</td>\n",
       "    </tr>\n",
       "    <tr>\n",
       "      <th>104</th>\n",
       "      <td>5.6</td>\n",
       "      <td>50</td>\n",
       "      <td>0</td>\n",
       "      <td>1</td>\n",
       "      <td>1</td>\n",
       "      <td>1</td>\n",
       "      <td>255</td>\n",
       "    </tr>\n",
       "    <tr>\n",
       "      <th>97</th>\n",
       "      <td>6.5</td>\n",
       "      <td>37</td>\n",
       "      <td>0</td>\n",
       "      <td>0</td>\n",
       "      <td>0</td>\n",
       "      <td>0</td>\n",
       "      <td>255</td>\n",
       "    </tr>\n",
       "  </tbody>\n",
       "</table>\n",
       "</div>"
      ],
      "text/plain": [
       "      pH  Temperature  Taste  Odor  Fat  Turbidity  Color\n",
       "5    6.6           37      1     1    1          1    255\n",
       "310  6.6           37      1     1    1          1    255\n",
       "557  4.7           38      1     0    1          0    255\n",
       "104  5.6           50      0     1    1          1    255\n",
       "97   6.5           37      0     0    0          0    255"
      ]
     },
     "execution_count": 19,
     "metadata": {},
     "output_type": "execute_result"
    }
   ],
   "source": [
    "from sklearn.model_selection import train_test_split\n",
    "\n",
    "xTrain, xTest, yTrain, yTest = train_test_split(xDF, \n",
    "    yDF,\n",
    "    random_state=42,\n",
    "    test_size = 0.3,\n",
    "    shuffle=True)\n",
    "\n",
    "xTrain.head()"
   ]
  },
  {
   "cell_type": "markdown",
   "metadata": {},
   "source": [
    "## Scaling"
   ]
  },
  {
   "cell_type": "code",
   "execution_count": 20,
   "metadata": {},
   "outputs": [],
   "source": [
    "from sklearn.preprocessing import StandardScaler\n",
    "\n",
    "xScaler = StandardScaler()\n",
    "xColNames = xTrain.columns.values.tolist()\n",
    "# train the scaler and apply it to the training set\n",
    "xTrainScaled = xScaler.fit_transform(xTrain[xColNames])\n",
    "# xTestScaled = xScaler.transform(xTest[xColNames])"
   ]
  },
  {
   "cell_type": "code",
   "execution_count": 21,
   "metadata": {},
   "outputs": [
    {
     "name": "stderr",
     "output_type": "stream",
     "text": [
      "c:\\Users\\ethan\\anaconda3\\Lib\\site-packages\\sklearn\\linear_model\\_logistic.py:1182: FutureWarning: `penalty='none'`has been deprecated in 1.2 and will be removed in 1.4. To keep the past behaviour, set `penalty=None`.\n",
      "  warnings.warn(\n",
      "c:\\Users\\ethan\\anaconda3\\Lib\\site-packages\\sklearn\\linear_model\\_logistic.py:1192: UserWarning: Setting penalty=None will ignore the C and l1_ratio parameters\n",
      "  warnings.warn(\n",
      "c:\\Users\\ethan\\anaconda3\\Lib\\site-packages\\sklearn\\linear_model\\_logistic.py:1182: FutureWarning: `penalty='none'`has been deprecated in 1.2 and will be removed in 1.4. To keep the past behaviour, set `penalty=None`.\n",
      "  warnings.warn(\n",
      "c:\\Users\\ethan\\anaconda3\\Lib\\site-packages\\sklearn\\linear_model\\_logistic.py:1192: UserWarning: Setting penalty=None will ignore the C and l1_ratio parameters\n",
      "  warnings.warn(\n",
      "c:\\Users\\ethan\\anaconda3\\Lib\\site-packages\\sklearn\\linear_model\\_logistic.py:1182: FutureWarning: `penalty='none'`has been deprecated in 1.2 and will be removed in 1.4. To keep the past behaviour, set `penalty=None`.\n",
      "  warnings.warn(\n",
      "c:\\Users\\ethan\\anaconda3\\Lib\\site-packages\\sklearn\\linear_model\\_logistic.py:1192: UserWarning: Setting penalty=None will ignore the C and l1_ratio parameters\n",
      "  warnings.warn(\n",
      "c:\\Users\\ethan\\anaconda3\\Lib\\site-packages\\sklearn\\linear_model\\_logistic.py:1182: FutureWarning: `penalty='none'`has been deprecated in 1.2 and will be removed in 1.4. To keep the past behaviour, set `penalty=None`.\n",
      "  warnings.warn(\n",
      "c:\\Users\\ethan\\anaconda3\\Lib\\site-packages\\sklearn\\linear_model\\_logistic.py:1192: UserWarning: Setting penalty=None will ignore the C and l1_ratio parameters\n",
      "  warnings.warn(\n",
      "c:\\Users\\ethan\\anaconda3\\Lib\\site-packages\\sklearn\\linear_model\\_logistic.py:1182: FutureWarning: `penalty='none'`has been deprecated in 1.2 and will be removed in 1.4. To keep the past behaviour, set `penalty=None`.\n",
      "  warnings.warn(\n",
      "c:\\Users\\ethan\\anaconda3\\Lib\\site-packages\\sklearn\\linear_model\\_logistic.py:1192: UserWarning: Setting penalty=None will ignore the C and l1_ratio parameters\n",
      "  warnings.warn(\n",
      "c:\\Users\\ethan\\anaconda3\\Lib\\site-packages\\sklearn\\linear_model\\_logistic.py:1182: FutureWarning: `penalty='none'`has been deprecated in 1.2 and will be removed in 1.4. To keep the past behaviour, set `penalty=None`.\n",
      "  warnings.warn(\n",
      "c:\\Users\\ethan\\anaconda3\\Lib\\site-packages\\sklearn\\linear_model\\_logistic.py:1192: UserWarning: Setting penalty=None will ignore the C and l1_ratio parameters\n",
      "  warnings.warn(\n",
      "c:\\Users\\ethan\\anaconda3\\Lib\\site-packages\\sklearn\\linear_model\\_logistic.py:1182: FutureWarning: `penalty='none'`has been deprecated in 1.2 and will be removed in 1.4. To keep the past behaviour, set `penalty=None`.\n",
      "  warnings.warn(\n",
      "c:\\Users\\ethan\\anaconda3\\Lib\\site-packages\\sklearn\\linear_model\\_logistic.py:1192: UserWarning: Setting penalty=None will ignore the C and l1_ratio parameters\n",
      "  warnings.warn(\n",
      "c:\\Users\\ethan\\anaconda3\\Lib\\site-packages\\sklearn\\linear_model\\_logistic.py:1182: FutureWarning: `penalty='none'`has been deprecated in 1.2 and will be removed in 1.4. To keep the past behaviour, set `penalty=None`.\n",
      "  warnings.warn(\n",
      "c:\\Users\\ethan\\anaconda3\\Lib\\site-packages\\sklearn\\linear_model\\_logistic.py:1192: UserWarning: Setting penalty=None will ignore the C and l1_ratio parameters\n",
      "  warnings.warn(\n",
      "c:\\Users\\ethan\\anaconda3\\Lib\\site-packages\\sklearn\\linear_model\\_logistic.py:1182: FutureWarning: `penalty='none'`has been deprecated in 1.2 and will be removed in 1.4. To keep the past behaviour, set `penalty=None`.\n",
      "  warnings.warn(\n",
      "c:\\Users\\ethan\\anaconda3\\Lib\\site-packages\\sklearn\\linear_model\\_logistic.py:1192: UserWarning: Setting penalty=None will ignore the C and l1_ratio parameters\n",
      "  warnings.warn(\n",
      "c:\\Users\\ethan\\anaconda3\\Lib\\site-packages\\sklearn\\linear_model\\_logistic.py:1182: FutureWarning: `penalty='none'`has been deprecated in 1.2 and will be removed in 1.4. To keep the past behaviour, set `penalty=None`.\n",
      "  warnings.warn(\n",
      "c:\\Users\\ethan\\anaconda3\\Lib\\site-packages\\sklearn\\linear_model\\_logistic.py:1192: UserWarning: Setting penalty=None will ignore the C and l1_ratio parameters\n",
      "  warnings.warn(\n",
      "c:\\Users\\ethan\\anaconda3\\Lib\\site-packages\\sklearn\\linear_model\\_logistic.py:1182: FutureWarning: `penalty='none'`has been deprecated in 1.2 and will be removed in 1.4. To keep the past behaviour, set `penalty=None`.\n",
      "  warnings.warn(\n",
      "c:\\Users\\ethan\\anaconda3\\Lib\\site-packages\\sklearn\\linear_model\\_logistic.py:1182: FutureWarning: `penalty='none'`has been deprecated in 1.2 and will be removed in 1.4. To keep the past behaviour, set `penalty=None`.\n",
      "  warnings.warn(\n",
      "c:\\Users\\ethan\\anaconda3\\Lib\\site-packages\\sklearn\\linear_model\\_logistic.py:1182: FutureWarning: `penalty='none'`has been deprecated in 1.2 and will be removed in 1.4. To keep the past behaviour, set `penalty=None`.\n",
      "  warnings.warn(\n",
      "c:\\Users\\ethan\\anaconda3\\Lib\\site-packages\\sklearn\\linear_model\\_logistic.py:1182: FutureWarning: `penalty='none'`has been deprecated in 1.2 and will be removed in 1.4. To keep the past behaviour, set `penalty=None`.\n",
      "  warnings.warn(\n",
      "c:\\Users\\ethan\\anaconda3\\Lib\\site-packages\\sklearn\\linear_model\\_logistic.py:1182: FutureWarning: `penalty='none'`has been deprecated in 1.2 and will be removed in 1.4. To keep the past behaviour, set `penalty=None`.\n",
      "  warnings.warn(\n"
     ]
    },
    {
     "data": {
      "text/plain": [
       "{'C': 1, 'penalty': 'l2'}"
      ]
     },
     "execution_count": 21,
     "metadata": {},
     "output_type": "execute_result"
    }
   ],
   "source": [
    "from sklearn.model_selection import GridSearchCV\n",
    "from sklearn.linear_model import LogisticRegression\n",
    "\n",
    "parameters = [{'penalty':['none','l2'], \n",
    "              'C':[.01, .1, 1]}]\n",
    "gridSearch = GridSearchCV(estimator = LogisticRegression(),  \n",
    "                           param_grid = parameters,\n",
    "                           scoring = 'recall_macro',\n",
    "                           cv = 5,\n",
    "                           verbose=0)\n",
    "\n",
    "\n",
    "gridSearch.fit(xTrainScaled, yTrain) \n",
    "\n",
    "logisticParams = gridSearch.best_params_\n",
    "\n",
    "logisticParams"
   ]
  },
  {
   "cell_type": "code",
   "execution_count": 22,
   "metadata": {},
   "outputs": [
    {
     "data": {
      "text/plain": [
       "{'C': 100, 'gamma': 1, 'kernel': 'rbf'}"
      ]
     },
     "execution_count": 22,
     "metadata": {},
     "output_type": "execute_result"
    }
   ],
   "source": [
    "from sklearn.svm import SVC\n",
    "\n",
    "parameters = {'C':[1,10,100,1000],\n",
    "              'gamma':[1,0.1,0.001,0.0001], \n",
    "              'kernel':['linear','rbf']}\n",
    "gridSearch = GridSearchCV(estimator = SVC(),  \n",
    "                           param_grid = parameters,\n",
    "                           scoring = 'recall_macro',\n",
    "                           cv = 5,\n",
    "                           verbose=0)\n",
    "\n",
    "\n",
    "gridSearch.fit(xTrainScaled, yTrain) \n",
    "\n",
    "svmParams = gridSearch.best_params_\n",
    "\n",
    "svmParams"
   ]
  },
  {
   "cell_type": "code",
   "execution_count": 23,
   "metadata": {},
   "outputs": [
    {
     "data": {
      "text/plain": [
       "{'activation': 'relu',\n",
       " 'alpha': 0.05,\n",
       " 'hidden_layer_sizes': (50, 50),\n",
       " 'learning_rate': 'adaptive',\n",
       " 'max_iter': 1000,\n",
       " 'solver': 'adam'}"
      ]
     },
     "execution_count": 23,
     "metadata": {},
     "output_type": "execute_result"
    }
   ],
   "source": [
    "from sklearn.neural_network import MLPClassifier\n",
    "\n",
    "parameters = parameter_space = {\n",
    "    'max_iter': [1000],\n",
    "    'hidden_layer_sizes': [(50,50), (50,50,50), (100)],\n",
    "    'activation': ['relu'],\n",
    "    'solver': ['adam'],\n",
    "    'alpha': [0.0001, 0.05],\n",
    "    'learning_rate': ['constant','adaptive'],\n",
    "}\n",
    "gridSearch = GridSearchCV(estimator = MLPClassifier(),  \n",
    "                           param_grid = parameters,\n",
    "                           scoring = 'recall_macro',\n",
    "                           cv = 5,\n",
    "                           verbose=0)\n",
    "\n",
    "\n",
    "gridSearch.fit(xTrainScaled, yTrain) \n",
    "\n",
    "mlpParams = gridSearch.best_params_\n",
    "\n",
    "mlpParams"
   ]
  },
  {
   "cell_type": "code",
   "execution_count": 24,
   "metadata": {},
   "outputs": [
    {
     "data": {
      "text/plain": [
       "{'max_depth': 20,\n",
       " 'min_samples_leaf': 4,\n",
       " 'min_samples_split': 2,\n",
       " 'n_estimators': 100}"
      ]
     },
     "execution_count": 24,
     "metadata": {},
     "output_type": "execute_result"
    }
   ],
   "source": [
    "from sklearn.ensemble import RandomForestClassifier\n",
    "from sklearn.model_selection import GridSearchCV\n",
    "\n",
    "# Define the parameters grid for Random Forest\n",
    "rf_parameters = {'n_estimators': [100, 200, 300],\n",
    "                 'max_depth': [None, 10, 20],\n",
    "                 'min_samples_split': [2, 5, 10],\n",
    "                 'min_samples_leaf': [1, 2, 4]}\n",
    "\n",
    "# Perform GridSearchCV for Random Forest\n",
    "rf_grid_search = GridSearchCV(estimator=RandomForestClassifier(),  \n",
    "                              param_grid=rf_parameters,\n",
    "                              scoring='recall_macro',\n",
    "                              cv=5,\n",
    "                              verbose=0)\n",
    "\n",
    "rf_grid_search.fit(xTrainScaled, yTrain)\n",
    "\n",
    "# Get the best parameters for Random Forest\n",
    "rfParams = rf_grid_search.best_params_\n",
    "\n",
    "rfParams\n"
   ]
  },
  {
   "cell_type": "code",
   "execution_count": 25,
   "metadata": {},
   "outputs": [
    {
     "data": {
      "text/plain": [
       "{'learning_rate': 0.1, 'n_estimators': 200}"
      ]
     },
     "execution_count": 25,
     "metadata": {},
     "output_type": "execute_result"
    }
   ],
   "source": [
    "from sklearn.ensemble import AdaBoostClassifier\n",
    "from sklearn.model_selection import GridSearchCV\n",
    "\n",
    "# Define the parameters grid for AdaBoost\n",
    "ada_parameters = {'n_estimators': [50, 100, 200],\n",
    "                  'learning_rate': [0.01, 0.1, 1.0]}\n",
    "\n",
    "# Perform GridSearchCV for AdaBoost\n",
    "ada_grid_search = GridSearchCV(estimator=AdaBoostClassifier(),  \n",
    "                               param_grid=ada_parameters,\n",
    "                               scoring='recall_macro',\n",
    "                               cv=5,\n",
    "                               verbose=0)\n",
    "\n",
    "ada_grid_search.fit(xTrainScaled, yTrain)\n",
    "\n",
    "# Get the best parameters for AdaBoost\n",
    "adaParams = ada_grid_search.best_params_\n",
    "\n",
    "adaParams\n"
   ]
  },
  {
   "cell_type": "code",
   "execution_count": 26,
   "metadata": {},
   "outputs": [
    {
     "data": {
      "text/plain": [
       "{'criterion': 'gini',\n",
       " 'max_depth': None,\n",
       " 'max_features': None,\n",
       " 'min_samples_leaf': 1,\n",
       " 'min_samples_split': 10,\n",
       " 'splitter': 'random'}"
      ]
     },
     "execution_count": 26,
     "metadata": {},
     "output_type": "execute_result"
    }
   ],
   "source": [
    "from sklearn.tree import DecisionTreeClassifier\n",
    "\n",
    "parameters = {'criterion': ['gini', 'entropy'],\n",
    "              'splitter': ['best', 'random'],\n",
    "              'max_depth': [None, 10, 20, 30, 40, 50],\n",
    "              'min_samples_split': [2, 5, 10],\n",
    "              'min_samples_leaf': [1, 2, 4],\n",
    "              'max_features': [None, 'sqrt', 'log2']}\n",
    "\n",
    "              \n",
    "gridSearch = GridSearchCV(estimator = DecisionTreeClassifier(),  \n",
    "                           param_grid = parameters,\n",
    "                           scoring = 'recall_macro',\n",
    "                           cv = 5,\n",
    "                           verbose=0)\n",
    "\n",
    "\n",
    "gridSearch.fit(xTrainScaled, yTrain) \n",
    "\n",
    "treeParams = gridSearch.best_params_\n",
    "\n",
    "treeParams"
   ]
  },
  {
   "cell_type": "code",
   "execution_count": 27,
   "metadata": {},
   "outputs": [
    {
     "data": {
      "text/plain": [
       "{'algorithm': 'auto',\n",
       " 'leaf_size': 20,\n",
       " 'n_neighbors': 3,\n",
       " 'p': 2,\n",
       " 'weights': 'distance'}"
      ]
     },
     "execution_count": 27,
     "metadata": {},
     "output_type": "execute_result"
    }
   ],
   "source": [
    "from sklearn.model_selection import GridSearchCV\n",
    "from sklearn.neighbors import KNeighborsClassifier\n",
    "\n",
    "knn_parameters = [{'n_neighbors': [3, 5, 7],\n",
    "                   'weights': ['uniform', 'distance'],\n",
    "                   'algorithm': ['auto', 'ball_tree', 'kd_tree', 'brute'],\n",
    "                   'leaf_size': [20, 30, 40],\n",
    "                   'p': [1, 2]}]\n",
    "\n",
    "gridSearch_knn = GridSearchCV(estimator=KNeighborsClassifier(),  \n",
    "                              param_grid=knn_parameters,\n",
    "                              scoring='recall_macro',\n",
    "                              cv=5,\n",
    "                              verbose=0)\n",
    "\n",
    "gridSearch_knn.fit(xTrainScaled, yTrain) \n",
    "\n",
    "knn_params = gridSearch_knn.best_params_\n",
    "\n",
    "knn_params"
   ]
  },
  {
   "cell_type": "code",
   "execution_count": 28,
   "metadata": {},
   "outputs": [
    {
     "data": {
      "text/plain": [
       "{'learning_rate': 0.1,\n",
       " 'min_samples_leaf': 1,\n",
       " 'n_estimators': 200,\n",
       " 'subsample': 0.8}"
      ]
     },
     "execution_count": 28,
     "metadata": {},
     "output_type": "execute_result"
    }
   ],
   "source": [
    "from sklearn.model_selection import GridSearchCV\n",
    "from sklearn.ensemble import GradientBoostingClassifier\n",
    "\n",
    "gbm_parameters = [{'learning_rate': [0.01, 0.1, 1],\n",
    "                   'n_estimators': [50, 100, 200],\n",
    "                   'subsample': [0.8, 1.0],\n",
    "                   'min_samples_leaf': [1, 2, 4]}]\n",
    "\n",
    "gridSearch_gbm = GridSearchCV(estimator=GradientBoostingClassifier(),  \n",
    "                               param_grid=gbm_parameters,\n",
    "                               scoring='recall_macro',\n",
    "                               cv=5,\n",
    "                               verbose=0)\n",
    "\n",
    "gridSearch_gbm.fit(xTrainScaled, yTrain) \n",
    "\n",
    "gbm_params = gridSearch_gbm.best_params_\n",
    "\n",
    "gbm_params"
   ]
  },
  {
   "cell_type": "markdown",
   "metadata": {},
   "source": [
    "## Retrain Models"
   ]
  },
  {
   "cell_type": "code",
   "execution_count": 29,
   "metadata": {},
   "outputs": [],
   "source": [
    "from sklearn.model_selection import StratifiedKFold\n",
    "from sklearn.metrics import f1_score, precision_score, recall_score, accuracy_score\n",
    "from sklearn.preprocessing import StandardScaler"
   ]
  },
  {
   "cell_type": "code",
   "execution_count": 30,
   "metadata": {},
   "outputs": [],
   "source": [
    "def HPmodel(params, model):\n",
    "    cv = StratifiedKFold(n_splits=5, shuffle=True, random_state=42)\n",
    "\n",
    "    accuracyScores = []\n",
    "    f1Scores = []\n",
    "    precisionScores = []\n",
    "    recallScores = []\n",
    "\n",
    "    for i, (trainIndex, valIndex) in enumerate(cv.split(xTrain, yTrain)):\n",
    "\n",
    "        ### making training and validation sets\n",
    "        # Convert indices to list\n",
    "        trainIndex = trainIndex.tolist()\n",
    "        valIndex = valIndex.tolist()\n",
    "        \n",
    "        # Split the data into training and validation sets for this fold\n",
    "        xLocalTrain, xVal = xTrain.iloc[trainIndex], xDF.iloc[valIndex]\n",
    "        yLocalTrain, yVal = yTrain.iloc[trainIndex], yDF.iloc[valIndex]\n",
    "\n",
    "\n",
    "        ### feature scaling\n",
    "        xScaler = StandardScaler()\n",
    "        xColNames = xLocalTrain.columns.values.tolist()\n",
    "        # train the scaler and apply it to the training set\n",
    "        xTrainScaled = xScaler.fit_transform(xLocalTrain[xColNames])\n",
    "        # apply the scaling to the validation set\n",
    "        xValScaled = xScaler.transform(xVal[xColNames])\n",
    "\n",
    "        ### model training\n",
    "        # instantiate the model\n",
    "        clf = model(**params)\n",
    "        # Train the classifier on the training data\n",
    "        clf.fit(xTrainScaled, yLocalTrain)\n",
    "        \n",
    "        ### model prediction and evaluation\n",
    "        # Make predictions on the test data\n",
    "        yPred = clf.predict(xValScaled)\n",
    "\n",
    "        # Calculate metrics and store them\n",
    "        score = accuracy_score(yVal, yPred)\n",
    "        accuracyScores.append(score)\n",
    "\n",
    "        score = f1_score(yVal, yPred, average='macro')\n",
    "        f1Scores.append(score)\n",
    "\n",
    "        score = precision_score(yVal, yPred, average= 'macro')\n",
    "        precisionScores.append(score)\n",
    "\n",
    "        score = recall_score(yVal, yPred, average='macro')\n",
    "        recallScores.append(score)\n",
    "\n",
    "        print(f\"Completed Fold {i}\")\n",
    "        print(f\"    Accuracy={accuracyScores[i]}    Recall={recallScores[i]}    FScore={f1Scores[i]}\")\n",
    "\n",
    "    ## Calculate the mean scores across all folds\n",
    "    mean_score = sum(accuracyScores) / len(accuracyScores)\n",
    "    print(\"Mean accuracy score:\", mean_score)\n",
    "\n",
    "    mean_score = sum(f1Scores) / len(f1Scores)\n",
    "    print(\"Mean f1 score:\", mean_score)\n",
    "\n",
    "    mean_score = sum(precisionScores) / len(precisionScores)\n",
    "    print(\"Mean precision score:\", mean_score)\n",
    "\n",
    "    mean_score = sum(recallScores) / len(recallScores)\n",
    "    print(\"Mean recall score:\", mean_score)"
   ]
  },
  {
   "cell_type": "code",
   "execution_count": 31,
   "metadata": {},
   "outputs": [
    {
     "name": "stdout",
     "output_type": "stream",
     "text": [
      "Completed Fold 0\n",
      "    Accuracy=0.8523489932885906    Recall=0.8486614262930052    FScore=0.8452233980011757\n",
      "Completed Fold 1\n",
      "    Accuracy=0.831081081081081    Recall=0.8153063725490196    FScore=0.8137744231379482\n",
      "Completed Fold 2\n",
      "    Accuracy=0.8445945945945946    Recall=0.8477421271538917    FScore=0.8414191172811862\n",
      "Completed Fold 3\n",
      "    Accuracy=0.8716216216216216    Recall=0.8703448275862069    FScore=0.8672719662577674\n",
      "Completed Fold 4\n",
      "    Accuracy=0.8243243243243243    Recall=0.8303100067479061    FScore=0.8095007112742665\n",
      "Mean accuracy score: 0.8447941229820424\n",
      "Mean f1 score: 0.8354379231904687\n",
      "Mean precision score: 0.8361947195944823\n",
      "Mean recall score: 0.8424729520660058\n"
     ]
    }
   ],
   "source": [
    "HPmodel(logisticParams, LogisticRegression)"
   ]
  },
  {
   "cell_type": "code",
   "execution_count": 32,
   "metadata": {},
   "outputs": [
    {
     "name": "stdout",
     "output_type": "stream",
     "text": [
      "Completed Fold 0\n",
      "    Accuracy=1.0    Recall=1.0    FScore=1.0\n",
      "Completed Fold 1\n",
      "    Accuracy=1.0    Recall=1.0    FScore=1.0\n",
      "Completed Fold 2\n",
      "    Accuracy=1.0    Recall=1.0    FScore=1.0\n",
      "Completed Fold 3\n",
      "    Accuracy=0.9932432432432432    Recall=0.9942528735632185    FScore=0.9929862229379137\n",
      "Completed Fold 4\n",
      "    Accuracy=0.9932432432432432    Recall=0.9945355191256832    FScore=0.9944440586151817\n",
      "Mean accuracy score: 0.9972972972972972\n",
      "Mean f1 score: 0.997486056310619\n",
      "Mean precision score: 0.9972628726287261\n",
      "Mean recall score: 0.9977576785377803\n"
     ]
    }
   ],
   "source": [
    "HPmodel(svmParams, SVC)"
   ]
  },
  {
   "cell_type": "code",
   "execution_count": 33,
   "metadata": {},
   "outputs": [
    {
     "name": "stdout",
     "output_type": "stream",
     "text": [
      "Completed Fold 0\n",
      "    Accuracy=1.0    Recall=1.0    FScore=1.0\n",
      "Completed Fold 1\n",
      "    Accuracy=1.0    Recall=1.0    FScore=1.0\n",
      "Completed Fold 2\n",
      "    Accuracy=1.0    Recall=1.0    FScore=1.0\n",
      "Completed Fold 3\n",
      "    Accuracy=0.9932432432432432    Recall=0.9942528735632185    FScore=0.993801119242359\n",
      "Completed Fold 4\n",
      "    Accuracy=1.0    Recall=1.0    FScore=1.0\n",
      "Mean accuracy score: 0.9986486486486486\n",
      "Mean f1 score: 0.9987602238484719\n",
      "Mean precision score: 0.9986928104575163\n",
      "Mean recall score: 0.9988505747126437\n"
     ]
    }
   ],
   "source": [
    "HPmodel(mlpParams, MLPClassifier)"
   ]
  },
  {
   "cell_type": "code",
   "execution_count": 34,
   "metadata": {},
   "outputs": [
    {
     "name": "stdout",
     "output_type": "stream",
     "text": [
      "Completed Fold 0\n",
      "    Accuracy=1.0    Recall=1.0    FScore=1.0\n",
      "Completed Fold 1\n",
      "    Accuracy=0.9797297297297297    Recall=0.9705882352941176    FScore=0.975495457574801\n",
      "Completed Fold 2\n",
      "    Accuracy=1.0    Recall=1.0    FScore=1.0\n",
      "Completed Fold 3\n",
      "    Accuracy=0.9932432432432432    Recall=0.9942528735632185    FScore=0.993801119242359\n",
      "Completed Fold 4\n",
      "    Accuracy=1.0    Recall=1.0    FScore=1.0\n",
      "Mean accuracy score: 0.9945945945945945\n",
      "Mean f1 score: 0.9938593153634321\n",
      "Mean precision score: 0.9951030668677727\n",
      "Mean recall score: 0.9929682217714673\n"
     ]
    }
   ],
   "source": [
    "HPmodel(rfParams, RandomForestClassifier)"
   ]
  },
  {
   "cell_type": "code",
   "execution_count": 35,
   "metadata": {},
   "outputs": [
    {
     "name": "stdout",
     "output_type": "stream",
     "text": [
      "Completed Fold 0\n",
      "    Accuracy=0.9530201342281879    Recall=0.9442355889724311    FScore=0.9477466746079015\n",
      "Completed Fold 1\n",
      "    Accuracy=0.9594594594594594    Recall=0.9537254901960784    FScore=0.9510204081632653\n",
      "Completed Fold 2\n",
      "    Accuracy=0.9662162162162162    Recall=0.9537037037037037    FScore=0.9572032311560478\n",
      "Completed Fold 3\n",
      "    Accuracy=0.8918918918918919    Recall=0.8733333333333334    FScore=0.8765432098765432\n",
      "Completed Fold 4\n",
      "    Accuracy=0.9594594594594594    Recall=0.9607728337236535    FScore=0.9497175141242936\n",
      "Mean accuracy score: 0.9460094322510431\n",
      "Mean f1 score: 0.9364462075856104\n",
      "Mean precision score: 0.9398401583111806\n",
      "Mean recall score: 0.93715418998584\n"
     ]
    }
   ],
   "source": [
    "HPmodel(adaParams, AdaBoostClassifier)"
   ]
  },
  {
   "cell_type": "code",
   "execution_count": 36,
   "metadata": {},
   "outputs": [
    {
     "name": "stdout",
     "output_type": "stream",
     "text": [
      "Completed Fold 0\n",
      "    Accuracy=1.0    Recall=1.0    FScore=1.0\n",
      "Completed Fold 1\n",
      "    Accuracy=1.0    Recall=1.0    FScore=1.0\n",
      "Completed Fold 2\n",
      "    Accuracy=0.9932432432432432    Recall=0.9907407407407408    FScore=0.9915598459671889\n",
      "Completed Fold 3\n",
      "    Accuracy=0.9932432432432432    Recall=0.9942528735632185    FScore=0.9929862229379137\n",
      "Completed Fold 4\n",
      "    Accuracy=0.9932432432432432    Recall=0.9945355191256832    FScore=0.9944440586151817\n",
      "Mean accuracy score: 0.9959459459459458\n",
      "Mean f1 score: 0.9957980255040567\n",
      "Mean precision score: 0.9957813911472447\n",
      "Mean recall score: 0.9959058266859285\n"
     ]
    }
   ],
   "source": [
    "HPmodel(treeParams, DecisionTreeClassifier)"
   ]
  },
  {
   "cell_type": "code",
   "execution_count": 37,
   "metadata": {},
   "outputs": [
    {
     "name": "stdout",
     "output_type": "stream",
     "text": [
      "Completed Fold 0\n",
      "    Accuracy=1.0    Recall=1.0    FScore=1.0\n",
      "Completed Fold 1\n",
      "    Accuracy=1.0    Recall=1.0    FScore=1.0\n",
      "Completed Fold 2\n",
      "    Accuracy=1.0    Recall=1.0    FScore=1.0\n",
      "Completed Fold 3\n",
      "    Accuracy=0.9932432432432432    Recall=0.9942528735632185    FScore=0.9929862229379137\n",
      "Completed Fold 4\n",
      "    Accuracy=0.9932432432432432    Recall=0.9945355191256832    FScore=0.9944440586151817\n",
      "Mean accuracy score: 0.9972972972972972\n",
      "Mean f1 score: 0.997486056310619\n",
      "Mean precision score: 0.9972628726287261\n",
      "Mean recall score: 0.9977576785377803\n"
     ]
    }
   ],
   "source": [
    "HPmodel(knn_params, KNeighborsClassifier)"
   ]
  },
  {
   "cell_type": "code",
   "execution_count": 38,
   "metadata": {},
   "outputs": [
    {
     "name": "stdout",
     "output_type": "stream",
     "text": [
      "Completed Fold 0\n",
      "    Accuracy=1.0    Recall=1.0    FScore=1.0\n",
      "Completed Fold 1\n",
      "    Accuracy=0.9932432432432432    Recall=0.9901960784313726    FScore=0.9917245455888871\n",
      "Completed Fold 2\n",
      "    Accuracy=0.9932432432432432    Recall=0.9907407407407408    FScore=0.9915598459671889\n",
      "Completed Fold 3\n",
      "    Accuracy=0.9932432432432432    Recall=0.9942528735632185    FScore=0.9929862229379137\n",
      "Completed Fold 4\n",
      "    Accuracy=1.0    Recall=1.0    FScore=1.0\n",
      "Mean accuracy score: 0.995945945945946\n",
      "Mean f1 score: 0.9952541228987979\n",
      "Mean precision score: 0.9955853127158723\n",
      "Mean recall score: 0.9950379385470665\n"
     ]
    }
   ],
   "source": [
    "HPmodel(gbm_params, GradientBoostingClassifier)"
   ]
  },
  {
   "cell_type": "markdown",
   "metadata": {},
   "source": [
    "## Retrain best models on testing set not used"
   ]
  },
  {
   "cell_type": "code",
   "execution_count": 39,
   "metadata": {},
   "outputs": [],
   "source": [
    "### feature scaling\n",
    "xScaler = StandardScaler()\n",
    "# train the scaler and apply it to the training set\n",
    "xTrainScaled = xScaler.fit_transform(xTrain[xColNames])\n",
    "# apply the scaling to the testing set\n",
    "xTestScaled = xScaler.transform(xTest[xColNames])"
   ]
  },
  {
   "cell_type": "code",
   "execution_count": 71,
   "metadata": {},
   "outputs": [
    {
     "data": {
      "text/html": [
       "<div>\n",
       "<style scoped>\n",
       "    .dataframe tbody tr th:only-of-type {\n",
       "        vertical-align: middle;\n",
       "    }\n",
       "\n",
       "    .dataframe tbody tr th {\n",
       "        vertical-align: top;\n",
       "    }\n",
       "\n",
       "    .dataframe thead th {\n",
       "        text-align: right;\n",
       "    }\n",
       "</style>\n",
       "<table border=\"1\" class=\"dataframe\">\n",
       "  <thead>\n",
       "    <tr style=\"text-align: right;\">\n",
       "      <th></th>\n",
       "      <th>model</th>\n",
       "      <th>accuracy</th>\n",
       "      <th>fScore</th>\n",
       "      <th>precision</th>\n",
       "      <th>recall</th>\n",
       "    </tr>\n",
       "  </thead>\n",
       "  <tbody>\n",
       "    <tr>\n",
       "      <th>0</th>\n",
       "      <td>Log Reg</td>\n",
       "      <td>0.849057</td>\n",
       "      <td>0.841631</td>\n",
       "      <td>0.839741</td>\n",
       "      <td>0.848772</td>\n",
       "    </tr>\n",
       "    <tr>\n",
       "      <th>1</th>\n",
       "      <td>Neural Network</td>\n",
       "      <td>0.996855</td>\n",
       "      <td>0.996366</td>\n",
       "      <td>0.995671</td>\n",
       "      <td>0.997101</td>\n",
       "    </tr>\n",
       "    <tr>\n",
       "      <th>2</th>\n",
       "      <td>SVM</td>\n",
       "      <td>0.993711</td>\n",
       "      <td>0.992715</td>\n",
       "      <td>0.992715</td>\n",
       "      <td>0.992715</td>\n",
       "    </tr>\n",
       "    <tr>\n",
       "      <th>3</th>\n",
       "      <td>Tree</td>\n",
       "      <td>0.990566</td>\n",
       "      <td>0.989172</td>\n",
       "      <td>0.990053</td>\n",
       "      <td>0.988330</td>\n",
       "    </tr>\n",
       "    <tr>\n",
       "      <th>4</th>\n",
       "      <td>RF</td>\n",
       "      <td>0.993711</td>\n",
       "      <td>0.993590</td>\n",
       "      <td>0.993067</td>\n",
       "      <td>0.994203</td>\n",
       "    </tr>\n",
       "    <tr>\n",
       "      <th>5</th>\n",
       "      <td>AdaBoost</td>\n",
       "      <td>0.915094</td>\n",
       "      <td>0.900123</td>\n",
       "      <td>0.920825</td>\n",
       "      <td>0.890385</td>\n",
       "    </tr>\n",
       "    <tr>\n",
       "      <th>6</th>\n",
       "      <td>kNN</td>\n",
       "      <td>0.996855</td>\n",
       "      <td>0.996366</td>\n",
       "      <td>0.995671</td>\n",
       "      <td>0.997101</td>\n",
       "    </tr>\n",
       "    <tr>\n",
       "      <th>7</th>\n",
       "      <td>GBM</td>\n",
       "      <td>0.993711</td>\n",
       "      <td>0.992851</td>\n",
       "      <td>0.993010</td>\n",
       "      <td>0.992715</td>\n",
       "    </tr>\n",
       "  </tbody>\n",
       "</table>\n",
       "</div>"
      ],
      "text/plain": [
       "            model  accuracy    fScore  precision    recall\n",
       "0         Log Reg  0.849057  0.841631   0.839741  0.848772\n",
       "1  Neural Network  0.996855  0.996366   0.995671  0.997101\n",
       "2             SVM  0.993711  0.992715   0.992715  0.992715\n",
       "3            Tree  0.990566  0.989172   0.990053  0.988330\n",
       "4              RF  0.993711  0.993590   0.993067  0.994203\n",
       "5        AdaBoost  0.915094  0.900123   0.920825  0.890385\n",
       "6             kNN  0.996855  0.996366   0.995671  0.997101\n",
       "7             GBM  0.993711  0.992851   0.993010  0.992715"
      ]
     },
     "execution_count": 71,
     "metadata": {},
     "output_type": "execute_result"
    }
   ],
   "source": [
    "################ \n",
    "# Log Reg\n",
    "################\n",
    "clf = LogisticRegression(**logisticParams)\n",
    "clf.fit(xTrainScaled, yTrain)\n",
    "\n",
    "preds = clf.predict(xTestScaled)\n",
    "\n",
    "logAccuracy = accuracy_score(yTest, preds)\n",
    "logFScore = f1_score(yTest, preds, average='macro')\n",
    "logPrecision = precision_score(yTest, preds, average='macro')\n",
    "logRecall = recall_score(yTest, preds, average='macro')\n",
    "\n",
    "################ \n",
    "# Neural Net\n",
    "################\n",
    "clf = MLPClassifier(**mlpParams)\n",
    "clf.fit(xTrainScaled, yTrain)\n",
    "\n",
    "preds = clf.predict(xTestScaled)\n",
    "\n",
    "nnAccuracy = accuracy_score(yTest, preds)\n",
    "nnFScore = f1_score(yTest, preds, average='macro')\n",
    "nnPrecision = precision_score(yTest, preds, average='macro')\n",
    "nnRecall = recall_score(yTest, preds, average='macro')\n",
    "\n",
    "\n",
    "################ \n",
    "# SVM\n",
    "################\n",
    "\n",
    "clf = SVC(**svmParams)\n",
    "clf.fit(xTrainScaled, yTrain)\n",
    "\n",
    "preds = clf.predict(xTestScaled)\n",
    "\n",
    "svmAccuracy = accuracy_score(yTest, preds)\n",
    "svmFScore = f1_score(yTest, preds, average='macro')\n",
    "svmPrecision = precision_score(yTest, preds, average='macro')\n",
    "svmRecall = recall_score(yTest, preds, average='macro')\n",
    "\n",
    "################ \n",
    "# Random Forrest\n",
    "################\n",
    "\n",
    "clf = RandomForestClassifier(**rfParams)\n",
    "clf.fit(xTrainScaled, yTrain)\n",
    "\n",
    "preds = clf.predict(xTestScaled)\n",
    "\n",
    "rfAccuracy = accuracy_score(yTest, preds)\n",
    "rfFScore = f1_score(yTest, preds, average='macro')\n",
    "rfPrecision = precision_score(yTest, preds, average='macro')\n",
    "rfRecall = recall_score(yTest, preds, average='macro')\n",
    "\n",
    "################ \n",
    "# AdaBoost\n",
    "################\n",
    "\n",
    "clf = AdaBoostClassifier(**adaParams)\n",
    "clf.fit(xTrainScaled, yTrain)\n",
    "\n",
    "preds = clf.predict(xTestScaled)\n",
    "\n",
    "adaAccuracy = accuracy_score(yTest, preds)\n",
    "adaFScore = f1_score(yTest, preds, average='macro')\n",
    "adaPrecision = precision_score(yTest, preds, average='macro')\n",
    "adaRecall = recall_score(yTest, preds, average='macro')\n",
    "\n",
    "################ \n",
    "# Tree\n",
    "################\n",
    "\n",
    "clf = DecisionTreeClassifier(**treeParams)\n",
    "clf.fit(xTrainScaled, yTrain)\n",
    "\n",
    "preds = clf.predict(xTestScaled)\n",
    "\n",
    "treeAccuracy = accuracy_score(yTest, preds)\n",
    "treeFScore = f1_score(yTest, preds, average='macro')\n",
    "treePrecision = precision_score(yTest, preds, average='macro')\n",
    "treeRecall = recall_score(yTest, preds, average='macro')\n",
    "\n",
    "################ \n",
    "# kNN\n",
    "################\n",
    "\n",
    "clf = KNeighborsClassifier(**knn_params)\n",
    "clf.fit(xTrainScaled, yTrain)\n",
    "\n",
    "preds = clf.predict(xTestScaled)\n",
    "\n",
    "kNNAccuracy = accuracy_score(yTest, preds)\n",
    "kNNFScore = f1_score(yTest, preds, average='macro')\n",
    "kNNPrecision = precision_score(yTest, preds, average='macro')\n",
    "kNNRecall = recall_score(yTest, preds, average='macro')\n",
    "\n",
    "################ \n",
    "# GBM\n",
    "################\n",
    "\n",
    "clf = GradientBoostingClassifier(**gbm_params)\n",
    "clf.fit(xTrainScaled, yTrain)\n",
    "\n",
    "preds = clf.predict(xTestScaled)\n",
    "\n",
    "GBMAccuracy = accuracy_score(yTest, preds)\n",
    "GBMFScore = f1_score(yTest, preds, average='macro')\n",
    "GBMPrecision = precision_score(yTest, preds, average='macro')\n",
    "GBMRecall = recall_score(yTest, preds, average='macro')\n",
    "\n",
    "scoreDict = {\"model\" : [\"Log Reg\", \"Neural Network\", \"SVM\", \"Tree\", \"RF\", \"AdaBoost\", \"kNN\", \"GBM\"],\n",
    "            \"accuracy\" : [logAccuracy, nnAccuracy, svmAccuracy, treeAccuracy, rfAccuracy, adaAccuracy, kNNAccuracy, GBMAccuracy],\n",
    "            \"fScore\" : [logFScore, nnFScore, svmFScore, treeFScore, rfFScore, adaFScore, kNNFScore, GBMFScore],\n",
    "            \"precision\" : [logPrecision, nnPrecision, svmPrecision, treePrecision, rfPrecision, adaPrecision, kNNPrecision, GBMPrecision],\n",
    "            \"recall\" : [logRecall, nnRecall, svmRecall, treeRecall, rfRecall, adaRecall, kNNRecall, GBMRecall]}\n",
    "\n",
    "# Check if any evaluation metric is missing for any model\n",
    "max_length = max(len(scoreDict[key]) for key in scoreDict.keys())\n",
    "for key in scoreDict.keys():\n",
    "    if len(scoreDict[key]) < max_length:\n",
    "        # Fill missing values with None or a placeholder\n",
    "        scoreDict[key].extend([None] * (max_length - len(scoreDict[key])))\n",
    "\n",
    "resultsDF = pd.DataFrame.from_dict(scoreDict)\n",
    "\n",
    "resultsDF"
   ]
  },
  {
   "cell_type": "markdown",
   "metadata": {},
   "source": [
    "ChatGPT citation:\n",
    "\n",
    "- Prompt: How can I export a pandas DF as a scholarly table in PDF form?"
   ]
  },
  {
   "cell_type": "code",
   "execution_count": 42,
   "metadata": {},
   "outputs": [
    {
     "name": "stdout",
     "output_type": "stream",
     "text": [
      "Requirement already satisfied: reportlab in c:\\users\\ethan\\anaconda3\\lib\\site-packages (4.2.0)\n",
      "Requirement already satisfied: pillow>=9.0.0 in c:\\users\\ethan\\anaconda3\\lib\\site-packages (from reportlab) (9.4.0)\n",
      "Requirement already satisfied: chardet in c:\\users\\ethan\\anaconda3\\lib\\site-packages (from reportlab) (4.0.0)\n",
      "Note: you may need to restart the kernel to use updated packages.\n"
     ]
    }
   ],
   "source": [
    "pip install reportlab"
   ]
  },
  {
   "cell_type": "code",
   "execution_count": 72,
   "metadata": {},
   "outputs": [
    {
     "name": "stdout",
     "output_type": "stream",
     "text": [
      "PDF saved as C:\\Users\\ethan\\OneDrive\\Desktop\\Berry Spring 24\\DAT 350\\FP\\scholarly_table.pdf\n"
     ]
    }
   ],
   "source": [
    "from reportlab.lib import colors\n",
    "from reportlab.lib.pagesizes import letter\n",
    "from reportlab.platypus import SimpleDocTemplate, Table, TableStyle\n",
    "from tabulate import tabulate\n",
    "import pandas as pd\n",
    "\n",
    "resultsDF['accuracy'] = (resultsDF['accuracy'].round(3))\n",
    "resultsDF['fScore'] = (resultsDF['fScore'].round(3))\n",
    "resultsDF['precision'] = (resultsDF['precision'].round(3))\n",
    "resultsDF['recall'] = (resultsDF['recall'].round(3))\n",
    "\n",
    "# Convert DataFrame to a list of lists for tabulate\n",
    "table = resultsDF.values.tolist()\n",
    "\n",
    "# Add the column names as the first row\n",
    "table.insert(0, resultsDF.columns.tolist())\n",
    "\n",
    "# Define table style\n",
    "style = TableStyle([('BACKGROUND', (0, 0), (-1, 0), colors.gray),\n",
    "                    ('TEXTCOLOR', (0, 0), (-1, 0), colors.white),\n",
    "                    ('ALIGN', (0, 0), (-1, -1), 'CENTER'),\n",
    "                    ('FONTNAME', (0, 0), (-1, 0), 'Helvetica-Bold'),\n",
    "                    ('BOTTOMPADDING', (0, 0), (-1, 0), 12),\n",
    "                    ('BACKGROUND', (0, 1), (-1, -1), colors.beige),\n",
    "                    ('GRID', (0, 0), (-1, -1), 1, colors.black)])\n",
    "\n",
    "# Specify the file path\n",
    "pdf_filename = r\"C:\\Users\\ethan\\OneDrive\\Desktop\\Berry Spring 24\\DAT 350\\FP\\scholarly_table.pdf\"\n",
    "\n",
    "# Create PDF\n",
    "pdf = SimpleDocTemplate(pdf_filename, pagesize=letter)\n",
    "table_data = Table(table)\n",
    "\n",
    "# Apply table style\n",
    "table_data.setStyle(style)\n",
    "\n",
    "# Build PDF\n",
    "pdf.build([table_data])\n",
    "\n",
    "print(f\"PDF saved as {pdf_filename}\")"
   ]
  }
 ],
 "metadata": {
  "kernelspec": {
   "display_name": "base",
   "language": "python",
   "name": "python3"
  },
  "language_info": {
   "codemirror_mode": {
    "name": "ipython",
    "version": 3
   },
   "file_extension": ".py",
   "mimetype": "text/x-python",
   "name": "python",
   "nbconvert_exporter": "python",
   "pygments_lexer": "ipython3",
   "version": "3.11.5"
  }
 },
 "nbformat": 4,
 "nbformat_minor": 2
}
